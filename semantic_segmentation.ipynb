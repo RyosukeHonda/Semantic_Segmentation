{
 "cells": [
  {
   "cell_type": "code",
   "execution_count": 1,
   "metadata": {},
   "outputs": [
    {
     "name": "stdout",
     "output_type": "stream",
     "text": [
      "TensorFlow Version: 1.2.1\n"
     ]
    }
   ],
   "source": [
    "import os.path\n",
    "import tensorflow as tf\n",
    "import helper\n",
    "import warnings\n",
    "from distutils.version import LooseVersion\n",
    "import project_tests as tests\n",
    "\n",
    "\n",
    "# Check TensorFlow Version\n",
    "assert LooseVersion(tf.__version__) >= LooseVersion('1.0'), 'Please use TensorFlow version 1.0 or newer.  You are using {}'.format(tf.__version__)\n",
    "print('TensorFlow Version: {}'.format(tf.__version__))\n",
    "\n",
    "# Check for a GPU\n",
    "if not tf.test.gpu_device_name():\n",
    "    warnings.warn('No GPU found. Please use a GPU to train your neural network.')\n",
    "else:\n",
    "    print('Default GPU Device: {}'.format(tf.test.gpu_device_name()))\n",
    "\n",
    "\n"
   ]
  },
  {
   "cell_type": "code",
   "execution_count": 2,
   "metadata": {},
   "outputs": [
    {
     "name": "stdout",
     "output_type": "stream",
     "text": [
      "Tests Passed\n"
     ]
    }
   ],
   "source": [
    "def load_vgg(sess, vgg_path):\n",
    "    \"\"\"\n",
    "    Load Pretrained VGG Model into TensorFlow.\n",
    "    :param sess: TensorFlow Session\n",
    "    :param vgg_path: Path to vgg folder, containing \"variables/\" and \"saved_model.pb\"\n",
    "    :return: Tuple of Tensors from VGG model (image_input, keep_prob, layer3_out, layer4_out, layer7_out)\n",
    "    \"\"\"\n",
    "    # TODO: Implement function\n",
    "    #   Use tf.saved_model.loader.load to load the model and weights\n",
    "\n",
    "\n",
    "    vgg_tag = 'vgg16'\n",
    "    #vgg_input_tensor_name = 'image_input:0'\n",
    "    #vgg_keep_prob_tensor_name = 'keep_prob:0'\n",
    "    #vgg_layer3_out_tensor_name = 'layer3_out:0'\n",
    "    #vgg_layer4_out_tensor_name = 'layer4_out:0'\n",
    "    #vgg_layer7_out_tensor_name = 'layer7_out:0'\n",
    "\n",
    "    tf.saved_model.loader.load(sess,[vgg_tag],vgg_path)\n",
    "\n",
    "    #image_input = sess.graph.get_tensor_by_name(vgg_input_tensor_name)\n",
    "    #keep_prob = sess.graph.get_tensor_by_name(vgg_keep_prob_tensor_name)\n",
    "    #layer3_out = sess.graph.get_tensor_by_name(vgg_layer3_out_tensor_name)\n",
    "    #layer4_out = sess.graph.get_tensor_by_name(vgg_layer4_out_tensor_name)\n",
    "    #layer7_out = sess.graph.get_tensor_by_name(vgg_layer7_out_tensor_name)\n",
    "\n",
    "\n",
    "    return (tf.get_default_graph().get_tensor_by_name( r + \":0\") for r in ['image_input','keep_prob','layer3_out','layer4_out','layer7_out'])\n",
    "tests.test_load_vgg(load_vgg, tf)"
   ]
  },
  {
   "cell_type": "code",
   "execution_count": null,
   "metadata": {
    "collapsed": true
   },
   "outputs": [],
   "source": []
  },
  {
   "cell_type": "code",
   "execution_count": 3,
   "metadata": {},
   "outputs": [
    {
     "name": "stdout",
     "output_type": "stream",
     "text": [
      "Tests Passed\n"
     ]
    }
   ],
   "source": [
    "def layers(vgg_layer3_out, vgg_layer4_out, vgg_layer7_out, num_classes):\n",
    "    \"\"\"\n",
    "    Create the layers for a fully convolutional network.  Build skip-layers using the vgg layers.\n",
    "    :param vgg_layer7_out: TF Tensor for VGG Layer 3 output\n",
    "    :param vgg_layer4_out: TF Tensor for VGG Layer 4 output\n",
    "    :param vgg_layer3_out: TF Tensor for VGG Layer 7 output\n",
    "    :param num_classes: Number of classes to classify\n",
    "    :return: The Tensor for the last layer of output\n",
    "    \"\"\"\n",
    "    # TODO: Implement function\n",
    "    num_classes = 2\n",
    "\n",
    "\n",
    "    #FCN\n",
    "    layer7 = tf.layers.conv2d(vgg_layer7_out, num_classes, 1, padding='SAME')\n",
    "    layer4 = tf.layers.conv2d(vgg_layer4_out, num_classes, 1, padding='SAME')\n",
    "    layer3 = tf.layers.conv2d(vgg_layer3_out, num_classes, 1, padding='SAME')\n",
    "\n",
    "    # deconv\n",
    "    deconv = tf.layers.conv2d_transpose(layer7, num_classes, 4, 2, 'SAME')\n",
    "\n",
    "    # Skip-connection with layer4 and deconv\n",
    "    comb_layer1 = tf.add(layer4, deconv)\n",
    "\n",
    "    # deconv\n",
    "    deconv = tf.layers.conv2d_transpose(comb_layer1, num_classes, 4, 2, 'SAME')\n",
    "\n",
    "    # Skip-connection with layer3 and deconv\n",
    "    comb_layer2 = tf.add(layer3, deconv)\n",
    "\n",
    "    # deconv to original image size(FCN-8s)\n",
    "    output = tf.layers.conv2d_transpose(comb_layer2, num_classes, 16, 8, 'SAME')\n",
    "\n",
    "    return output\n",
    "tests.test_layers(layers)"
   ]
  },
  {
   "cell_type": "code",
   "execution_count": 4,
   "metadata": {},
   "outputs": [
    {
     "name": "stdout",
     "output_type": "stream",
     "text": [
      "Tests Passed\n"
     ]
    }
   ],
   "source": [
    "def optimize(nn_last_layer, correct_label, learning_rate, num_classes):\n",
    "    \"\"\"\n",
    "    Build the TensorFLow loss and optimizer operations.\n",
    "    :param nn_last_layer: TF Tensor of the last layer in the neural network\n",
    "    :param correct_label: TF Placeholder for the correct label image\n",
    "    :param learning_rate: TF Placeholder for the learning rate\n",
    "    :param num_classes: Number of classes to classify\n",
    "    :return: Tuple of (logits, train_op, cross_entropy_loss)\n",
    "    \"\"\"\n",
    "    # TODO: Implement function\n",
    "    #reshape output and label tensor\n",
    "    logits = tf.reshape(nn_last_layer,(-1,num_classes))\n",
    "    reshaped_labels = tf.reshape(correct_label, (-1, num_classes))\n",
    "\n",
    "    #calculate loss\n",
    "    cross_entropy_loss = tf.reduce_mean(tf.nn.softmax_cross_entropy_with_logits(logits = logits, labels = reshaped_labels))\n",
    "    #Optimization\n",
    "    train_op = tf.train.GradientDescentOptimizer(learning_rate).minimize(cross_entropy_loss)\n",
    "    #GradientDescent is best so far\n",
    "    return logits,train_op,cross_entropy_loss\n",
    "tests.test_optimize(optimize)"
   ]
  },
  {
   "cell_type": "code",
   "execution_count": 6,
   "metadata": {
    "collapsed": true
   },
   "outputs": [],
   "source": [
    "def train_nn(sess, epochs, batch_size, get_batches_fn, train_op, cross_entropy_loss, input_image,\n",
    "             correct_label, keep_prob, learning_rate):\n",
    "    \"\"\"\n",
    "    Train neural network and print out the loss during training.\n",
    "    :param sess: TF Session\n",
    "    :param epochs: Number of epochs\n",
    "    :param batch_size: Batch size\n",
    "    :param get_batches_fn: Function to get batches of training data.  Call using get_batches_fn(batch_size)\n",
    "    :param train_op: TF Operation to train the neural network\n",
    "    :param cross_entropy_loss: TF Tensor for the amount of loss\n",
    "    :param input_image: TF Placeholder for input images\n",
    "    :param correct_label: TF Placeholder for label images\n",
    "    :param keep_prob: TF Placeholder for dropout keep probability\n",
    "    :param learning_rate: TF Placeholder for learning rate\n",
    "    \"\"\"\n",
    "    # TODO: Implement function\n",
    "    idx = 0\n",
    "    for epoch in range(epochs):\n",
    "        for batch in get_batches_fn(batch_size):\n",
    "            idx +=1\n",
    "            batch_images, batch_gts = batch\n",
    "            _,loss =sess.run([train_op,cross_entropy_loss] , feed_dict={input_image:batch_images , keep_prob:0.85 , correct_label:batch_gts , learning_rate:0.001})\n",
    "\n",
    "            #best param\n",
    "            #_,loss =sess.run([train_op,cross_entropy_loss] , feed_dict={input_image:batch_images , keep_prob:0.85 , correct_label:batch_gts , learning_rate:0.001})\n",
    "\n",
    "            #print out loss\n",
    "            if (idx % 2 == 0):\n",
    "                print(\"Epoch {}/{}...\".format(epoch+1, epochs),\n",
    "                      \"Training Loss: {:.4f}...\".format(loss))\n",
    "\n",
    "\n",
    "tests.test_train_nn(train_nn)"
   ]
  },
  {
   "cell_type": "code",
   "execution_count": null,
   "metadata": {
    "collapsed": true
   },
   "outputs": [],
   "source": [
    "def run():\n",
    "    num_classes = 2\n",
    "    image_shape = (160, 576)\n",
    "    data_dir = './data'\n",
    "    runs_dir = './runs'\n",
    "    tests.test_for_kitti_dataset(data_dir)\n",
    "\n",
    "    # Download pretrained vgg model\n",
    "    helper.maybe_download_pretrained_vgg(data_dir)\n",
    "\n",
    "    # OPTIONAL: Train and Inference on the cityscapes dataset instead of the Kitti dataset.\n",
    "    # You'll need a GPU with at least 10 teraFLOPS to train on.\n",
    "    #  https://www.cityscapes-dataset.com/\n",
    "\n",
    "\n",
    "    epochs = 10\n",
    "    batch_size = 16\n",
    "\n",
    "    # epochs = 10\n",
    "    #batch_size = 16 is the best so far\n",
    "\n",
    "    with tf.Session() as sess:\n",
    "        # Path to vgg model\n",
    "        vgg_path = os.path.join(data_dir, 'vgg')\n",
    "        # Create function to get batches\n",
    "        get_batches_fn = helper.gen_batch_function(os.path.join(data_dir, 'data_road/training'), image_shape)\n",
    "\n",
    "        # OPTIONAL: Augment Images for better results\n",
    "        #  https://datascience.stackexchange.com/questions/5224/how-to-prepare-augment-images-for-neural-network\n",
    "\n",
    "        # TODO: Build NN using load_vgg, layers, and optimize function\n",
    "        image_input, keep_prob, layer3_out, layer4_out, layer7_out = load_vgg(sess,vgg_path)\n",
    "        output = layers(layer3_out,layer4_out,layer7_out,num_classes)\n",
    "\n",
    "        learning_rate = tf.placeholder(dtype = tf.float32)\n",
    "        correct_label = tf.placeholder(dtype = tf.float32, shape = (None, None, None, num_classes)) # 4-D tensor, project_tests.py\n",
    "\n",
    "        logits,train_op,cross_entropy_loss = optimize(output , correct_label , learning_rate , num_classes)\n",
    "        # TODO: Train NN using the train_nn function\n",
    "        sess.run(tf.global_variables_initializer())\n",
    "        train_nn(sess,epochs,batch_size,get_batches_fn,train_op,cross_entropy_loss,image_input,correct_label,keep_prob,learning_rate)\n",
    "        # TODO: Save inference data using helper.save_inference_samples\n",
    "        helper.save_inference_samples(runs_dir, data_dir, sess, image_shape, logits, keep_prob, image_input)\n",
    "\n",
    "\n",
    "if __name__ == '__main__':\n",
    "    run()"
   ]
  }
 ],
 "metadata": {
  "hide_input": false,
  "kernelspec": {
   "display_name": "Python 3",
   "language": "python",
   "name": "python3"
  },
  "language_info": {
   "codemirror_mode": {
    "name": "ipython",
    "version": 3
   },
   "file_extension": ".py",
   "mimetype": "text/x-python",
   "name": "python",
   "nbconvert_exporter": "python",
   "pygments_lexer": "ipython3",
   "version": "3.5.2"
  },
  "latex_envs": {
   "bibliofile": "biblio.bib",
   "cite_by": "apalike",
   "current_citInitial": 1,
   "eqLabelWithNumbers": true,
   "eqNumInitial": 0
  },
  "nav_menu": {},
  "toc": {
   "navigate_menu": true,
   "number_sections": true,
   "sideBar": true,
   "threshold": 6,
   "toc_cell": false,
   "toc_section_display": "block",
   "toc_window_display": false
  },
  "widgets": {
   "state": {},
   "version": "1.1.2"
  }
 },
 "nbformat": 4,
 "nbformat_minor": 2
}
